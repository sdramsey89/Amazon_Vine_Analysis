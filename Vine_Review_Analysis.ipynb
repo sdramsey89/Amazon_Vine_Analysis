{
  "nbformat": 4,
  "nbformat_minor": 0,
  "metadata": {
    "colab": {
      "name": "Vine_Review_Analysis.ipynb",
      "provenance": []
    },
    "kernelspec": {
      "name": "python3",
      "display_name": "Python 3"
    },
    "language_info": {
      "name": "python"
    }
  },
  "cells": [
    {
      "cell_type": "code",
      "metadata": {
        "colab": {
          "base_uri": "https://localhost:8080/"
        },
        "id": "eiXjDOuB1jgr",
        "outputId": "67be5e56-0454-46da-e955-d1c645d58795"
      },
      "source": [
        "import os\n",
        "# Find the latest version of spark 2.0  from http://www-us.apache.org/dist/spark/ and enter as the spark version\n",
        "# For example:\n",
        "# spark_version = 'spark-3.0.0'\n",
        "spark_version = 'spark-3.1.2'\n",
        "os.environ['SPARK_VERSION']=spark_version\n",
        "\n",
        "# Install Spark and Java\n",
        "!apt-get update\n",
        "!apt-get install openjdk-11-jdk-headless -qq > /dev/null\n",
        "!wget -q http://www-us.apache.org/dist/spark/$SPARK_VERSION/$SPARK_VERSION-bin-hadoop2.7.tgz\n",
        "!tar xf $SPARK_VERSION-bin-hadoop2.7.tgz\n",
        "!pip install -q findspark\n",
        "\n",
        "# Set Environment Variables\n",
        "import os\n",
        "os.environ[\"JAVA_HOME\"] = \"/usr/lib/jvm/java-11-openjdk-amd64\"\n",
        "os.environ[\"SPARK_HOME\"] = f\"/content/{spark_version}-bin-hadoop2.7\"\n",
        "\n",
        "# Start a SparkSession\n",
        "import findspark\n",
        "findspark.init()"
      ],
      "execution_count": 1,
      "outputs": [
        {
          "output_type": "stream",
          "text": [
            "\r0% [Working]\r            \rHit:1 http://ppa.launchpad.net/c2d4u.team/c2d4u4.0+/ubuntu bionic InRelease\n",
            "\r0% [Connecting to archive.ubuntu.com (91.189.88.152)] [Connecting to security.u\r                                                                               \rHit:2 http://archive.ubuntu.com/ubuntu bionic InRelease\n",
            "\r                                                                               \rGet:3 http://archive.ubuntu.com/ubuntu bionic-updates InRelease [88.7 kB]\n",
            "\r                                                                               \rHit:4 http://ppa.launchpad.net/cran/libgit2/ubuntu bionic InRelease\n",
            "\r0% [3 InRelease 30.1 kB/88.7 kB 34%] [Connecting to security.ubuntu.com (91.189\r0% [1 InRelease gpgv 15.9 kB] [3 InRelease 35.9 kB/88.7 kB 40%] [Connecting to \r                                                                               \rHit:5 http://ppa.launchpad.net/deadsnakes/ppa/ubuntu bionic InRelease\n",
            "\r0% [1 InRelease gpgv 15.9 kB] [3 InRelease 54.7 kB/88.7 kB 62%] [Connecting to \r0% [1 InRelease gpgv 15.9 kB] [Waiting for headers] [Connecting to security.ubu\r                                                                               \rHit:6 https://cloud.r-project.org/bin/linux/ubuntu bionic-cran40/ InRelease\n",
            "\r0% [1 InRelease gpgv 15.9 kB] [Waiting for headers] [Connecting to security.ubu\r                                                                               \rGet:7 http://archive.ubuntu.com/ubuntu bionic-backports InRelease [74.6 kB]\n",
            "\r0% [1 InRelease gpgv 15.9 kB] [7 InRelease 17.1 kB/74.6 kB 23%] [Waiting for he\r                                                                               \rHit:8 http://ppa.launchpad.net/graphics-drivers/ppa/ubuntu bionic InRelease\n",
            "Get:9 http://security.ubuntu.com/ubuntu bionic-security InRelease [88.7 kB]\n",
            "Ign:10 https://developer.download.nvidia.com/compute/cuda/repos/ubuntu1804/x86_64  InRelease\n",
            "Ign:11 https://developer.download.nvidia.com/compute/machine-learning/repos/ubuntu1804/x86_64  InRelease\n",
            "Hit:12 https://developer.download.nvidia.com/compute/cuda/repos/ubuntu1804/x86_64  Release\n",
            "Hit:13 https://developer.download.nvidia.com/compute/machine-learning/repos/ubuntu1804/x86_64  Release\n",
            "Get:14 http://archive.ubuntu.com/ubuntu bionic-updates/main amd64 Packages [2,619 kB]\n",
            "Get:15 http://archive.ubuntu.com/ubuntu bionic-updates/universe amd64 Packages [2,185 kB]\n",
            "Get:18 http://security.ubuntu.com/ubuntu bionic-security/main amd64 Packages [2,185 kB]\n",
            "Get:19 http://security.ubuntu.com/ubuntu bionic-security/universe amd64 Packages [1,415 kB]\n",
            "Fetched 8,655 kB in 3s (3,011 kB/s)\n",
            "Reading package lists... Done\n"
          ],
          "name": "stdout"
        }
      ]
    },
    {
      "cell_type": "code",
      "metadata": {
        "id": "K1rzHZHE3aXc"
      },
      "source": [
        "# Start Spark session\n",
        "from pyspark.sql import SparkSession\n",
        "spark = SparkSession.builder.appName(\"vine\").getOrCreate()"
      ],
      "execution_count": 2,
      "outputs": []
    },
    {
      "cell_type": "code",
      "metadata": {
        "colab": {
          "base_uri": "https://localhost:8080/"
        },
        "id": "tHrcSWxZ4j3H",
        "outputId": "29ae2afa-aa97-4aa5-cf96-52c6a5f46c72"
      },
      "source": [
        "# Read in data from S3 Buckets\n",
        "from pyspark import SparkFiles\n",
        "url =\"https://489325038812-bucket.s3.amazonaws.com/vine_header.csv\"\n",
        "spark.sparkContext.addFile(url)\n",
        "df = spark.read.csv(SparkFiles.get(\"vine_header.csv\"), sep=\",\", header=True)\n",
        "\n",
        "# Show DataFrame\n",
        "df.show()"
      ],
      "execution_count": 4,
      "outputs": [
        {
          "output_type": "stream",
          "text": [
            "+--------------+-----------+-------------+-----------+----+-----------------+\n",
            "|     review_id|star_rating|helpful_votes|total_votes|vine|verified_purchase|\n",
            "+--------------+-----------+-------------+-----------+----+-----------------+\n",
            "|R35T75OLUGHL5C|          4|            0|          0|   N|                Y|\n",
            "|R2BV735O46BN33|          5|            0|          0|   N|                Y|\n",
            "|R2NBEUGPQQGXP1|          4|            0|          0|   N|                Y|\n",
            "|R17LLAOJ8ITK0S|          3|            1|          1|   N|                Y|\n",
            "|R39PEQBT5ISEF4|          1|            0|          0|   N|                Y|\n",
            "|R3GNM3SU9VHJFT|          4|            1|          1|   N|                Y|\n",
            "| R2Y81OP0EK467|          5|            0|          0|   N|                Y|\n",
            "|R2LFGSI6HAYH5F|          5|            1|          1|   N|                Y|\n",
            "|R297G6ED1IQO7W|          5|            1|          1|   N|                Y|\n",
            "| RE27RFC6101N6|          5|            0|          0|   N|                Y|\n",
            "|R3BPDME6E94W8Z|          5|            0|          0|   N|                Y|\n",
            "|R2P08O1RILUOX3|          3|            0|          0|   N|                Y|\n",
            "|R37CVAB03PTDVI|          5|            0|          1|   N|                Y|\n",
            "| RAWNWOGXPCPMD|          5|            0|          0|   N|                Y|\n",
            "| R5DYGP6ASX77M|          5|            0|          0|   N|                Y|\n",
            "|R1O0SAOOGF2KG7|          4|            0|          0|   N|                Y|\n",
            "|R35NJUT0U3MU3V|          5|            0|          0|   N|                Y|\n",
            "|R242C08MF9D1AH|          5|            0|          0|   N|                Y|\n",
            "| R3RYG8TJTO4E2|          5|            0|          0|   N|                Y|\n",
            "|R3IKH1DNY0CP9F|          2|            0|          0|   N|                Y|\n",
            "+--------------+-----------+-------------+-----------+----+-----------------+\n",
            "only showing top 20 rows\n",
            "\n"
          ],
          "name": "stdout"
        }
      ]
    },
    {
      "cell_type": "code",
      "metadata": {
        "colab": {
          "base_uri": "https://localhost:8080/"
        },
        "id": "g5uEJAuJ4y5L",
        "outputId": "278c920b-3523-4534-b19d-212e71a83cfa"
      },
      "source": [
        "# retrieve all the rows where the total_votes count is equal to or greater than 20\n",
        "total_votes_df = df.filter(\"total_votes>19\")\n",
        "total_votes_df.show()"
      ],
      "execution_count": 6,
      "outputs": [
        {
          "output_type": "stream",
          "text": [
            "+--------------+-----------+-------------+-----------+----+-----------------+\n",
            "|     review_id|star_rating|helpful_votes|total_votes|vine|verified_purchase|\n",
            "+--------------+-----------+-------------+-----------+----+-----------------+\n",
            "|R2FP3U4NHNFNL2|          5|           25|         29|   N|                Y|\n",
            "|R1UUK1977O38MU|          5|           31|         31|   N|                Y|\n",
            "| RXO216LWUDV6O|          3|           29|         31|   N|                Y|\n",
            "|R3NMJF7EBMM19V|          3|           26|         27|   N|                Y|\n",
            "|R2ZY0ZBDUO0XUY|          3|           20|         21|   N|                Y|\n",
            "| RBDVHX7PMQEKM|          5|           35|         39|   N|                Y|\n",
            "| RGO3KSDXYWTGU|          4|           26|         26|   N|                Y|\n",
            "|R2O4P39D0ALCQK|          2|           14|         43|   N|                Y|\n",
            "|R1E1PQGHWGO3Q1|          1|           89|         96|   N|                Y|\n",
            "|R1XOXXUVYZEDJB|          5|           22|         22|   N|                Y|\n",
            "| R7SHITUU5UG9U|          5|           27|         27|   N|                Y|\n",
            "|R230TLHU91M5Y3|          4|           21|         21|   N|                Y|\n",
            "| RHR5MKO23K9TU|          5|           26|         30|   N|                Y|\n",
            "|R1HGK3TCY161D7|          5|           52|         55|   N|                N|\n",
            "|R340QYAVNZZHJA|          4|           25|         25|   N|                N|\n",
            "|R2F1UVQK0JL4QH|          3|           20|         20|   N|                Y|\n",
            "|R1N21UY546VWMN|          2|           48|         50|   N|                Y|\n",
            "|R1E4L344EK0ZOT|          5|           20|         26|   N|                N|\n",
            "|R282QUZDDJW3ON|          4|           45|         49|   N|                Y|\n",
            "|R3H5T3T7QY3ZL2|          5|          247|        263|   N|                Y|\n",
            "+--------------+-----------+-------------+-----------+----+-----------------+\n",
            "only showing top 20 rows\n",
            "\n"
          ],
          "name": "stdout"
        }
      ]
    },
    {
      "cell_type": "code",
      "metadata": {
        "colab": {
          "base_uri": "https://localhost:8080/"
        },
        "id": "BxF_Sca_6Qj6",
        "outputId": "710aef66-4fb3-41bb-dde6-4aaeec208f61"
      },
      "source": [
        "# Create new DF where all the rows where the number of helpful_votes divided by total_votes is equal to or greater than 50%\n",
        "vote_percentage_df = total_votes_df.withColumn(\"vote_percent\", total_votes_df['helpful_votes']/total_votes_df['total_votes'])\n",
        "helpful_df = vote_percentage_df.filter(\"vote_percent>=.5\")\n",
        "helpful_df.show()"
      ],
      "execution_count": 10,
      "outputs": [
        {
          "output_type": "stream",
          "text": [
            "+--------------+-----------+-------------+-----------+----+-----------------+------------------+\n",
            "|     review_id|star_rating|helpful_votes|total_votes|vine|verified_purchase|      vote_percent|\n",
            "+--------------+-----------+-------------+-----------+----+-----------------+------------------+\n",
            "|R2FP3U4NHNFNL2|          5|           25|         29|   N|                Y|0.8620689655172413|\n",
            "|R1UUK1977O38MU|          5|           31|         31|   N|                Y|               1.0|\n",
            "| RXO216LWUDV6O|          3|           29|         31|   N|                Y|0.9354838709677419|\n",
            "|R3NMJF7EBMM19V|          3|           26|         27|   N|                Y|0.9629629629629629|\n",
            "|R2ZY0ZBDUO0XUY|          3|           20|         21|   N|                Y|0.9523809523809523|\n",
            "| RBDVHX7PMQEKM|          5|           35|         39|   N|                Y|0.8974358974358975|\n",
            "| RGO3KSDXYWTGU|          4|           26|         26|   N|                Y|               1.0|\n",
            "|R1E1PQGHWGO3Q1|          1|           89|         96|   N|                Y|0.9270833333333334|\n",
            "|R1XOXXUVYZEDJB|          5|           22|         22|   N|                Y|               1.0|\n",
            "| R7SHITUU5UG9U|          5|           27|         27|   N|                Y|               1.0|\n",
            "|R230TLHU91M5Y3|          4|           21|         21|   N|                Y|               1.0|\n",
            "| RHR5MKO23K9TU|          5|           26|         30|   N|                Y|0.8666666666666667|\n",
            "|R1HGK3TCY161D7|          5|           52|         55|   N|                N|0.9454545454545454|\n",
            "|R340QYAVNZZHJA|          4|           25|         25|   N|                N|               1.0|\n",
            "|R2F1UVQK0JL4QH|          3|           20|         20|   N|                Y|               1.0|\n",
            "|R1N21UY546VWMN|          2|           48|         50|   N|                Y|              0.96|\n",
            "|R1E4L344EK0ZOT|          5|           20|         26|   N|                N|0.7692307692307693|\n",
            "|R282QUZDDJW3ON|          4|           45|         49|   N|                Y|0.9183673469387755|\n",
            "|R3H5T3T7QY3ZL2|          5|          247|        263|   N|                Y|0.9391634980988594|\n",
            "|R3W1A1P95IIGHX|          5|           23|         25|   N|                N|              0.92|\n",
            "+--------------+-----------+-------------+-----------+----+-----------------+------------------+\n",
            "only showing top 20 rows\n",
            "\n"
          ],
          "name": "stdout"
        }
      ]
    },
    {
      "cell_type": "code",
      "metadata": {
        "colab": {
          "base_uri": "https://localhost:8080/"
        },
        "id": "g4WRR7wn6_Xs",
        "outputId": "dca19c22-50d3-4023-df19-1de6bbc78c1e"
      },
      "source": [
        "# Retrieve all the rows where a review was written as part of the Vine program\n",
        "vine_yes_df = helpful_df.filter(\"vine='Y'\")\n",
        "vine_yes_df.show()"
      ],
      "execution_count": 11,
      "outputs": [
        {
          "output_type": "stream",
          "text": [
            "+--------------+-----------+-------------+-----------+----+-----------------+------------------+\n",
            "|     review_id|star_rating|helpful_votes|total_votes|vine|verified_purchase|      vote_percent|\n",
            "+--------------+-----------+-------------+-----------+----+-----------------+------------------+\n",
            "|R3KPC0NBUDASX3|          5|           25|         25|   Y|                N|               1.0|\n",
            "|R119P2A95GGXX4|          5|           26|         28|   Y|                N|0.9285714285714286|\n",
            "|R1HKIRME8AJ89Z|          5|           79|         82|   Y|                N|0.9634146341463414|\n",
            "|R3FY3GMBGOBR22|          5|           12|         20|   Y|                N|               0.6|\n",
            "|R15KH3FBSVYGBU|          5|           32|         37|   Y|                N|0.8648648648648649|\n",
            "|R22XZEQLVLWW49|          5|           28|         33|   Y|                N|0.8484848484848485|\n",
            "|R2OIQYVAL9D63R|          4|           59|         65|   Y|                N|0.9076923076923077|\n",
            "|R1W3KCDHM6BMZT|          4|           37|         38|   Y|                N|0.9736842105263158|\n",
            "|R3KDMPS96IJ10R|          2|           15|         21|   Y|                N|0.7142857142857143|\n",
            "|R1XWEI58A7VKLB|          5|          123|        128|   Y|                N|         0.9609375|\n",
            "|R1CJWM6CMWKSA1|          4|           31|         33|   Y|                N|0.9393939393939394|\n",
            "|R39I3FUDBKZM3Y|          5|           34|         38|   Y|                N|0.8947368421052632|\n",
            "|R32LU0KSL7QWSF|          5|           35|         37|   Y|                N|0.9459459459459459|\n",
            "|R2LGDXO3MG2WQW|          5|           37|         41|   Y|                N|0.9024390243902439|\n",
            "|R16AVI2NTYWLKI|          5|           31|         33|   Y|                N|0.9393939393939394|\n",
            "|R12K0ITIV6AYM3|          5|           34|         34|   Y|                N|               1.0|\n",
            "| R9ILZLNNK93CO|          5|           38|         39|   Y|                N|0.9743589743589743|\n",
            "|R1CS8VSI1KSR1P|          5|           21|         22|   Y|                N|0.9545454545454546|\n",
            "|R186TCIH8TEGPY|          5|           40|         43|   Y|                N|0.9302325581395349|\n",
            "| R3GBQRR2GY4SP|          4|          119|        125|   Y|                N|             0.952|\n",
            "+--------------+-----------+-------------+-----------+----+-----------------+------------------+\n",
            "only showing top 20 rows\n",
            "\n"
          ],
          "name": "stdout"
        }
      ]
    },
    {
      "cell_type": "code",
      "metadata": {
        "colab": {
          "base_uri": "https://localhost:8080/"
        },
        "id": "xAPR4unb8GWY",
        "outputId": "70c5569b-3236-4890-8dbc-d88a2bb35e84"
      },
      "source": [
        "# Retrieve all the rows where a review was NOT written as part of the Vine program\n",
        "vine_no_df = helpful_df.filter(\"vine='N'\")\n",
        "vine_no_df.show()"
      ],
      "execution_count": 12,
      "outputs": [
        {
          "output_type": "stream",
          "text": [
            "+--------------+-----------+-------------+-----------+----+-----------------+------------------+\n",
            "|     review_id|star_rating|helpful_votes|total_votes|vine|verified_purchase|      vote_percent|\n",
            "+--------------+-----------+-------------+-----------+----+-----------------+------------------+\n",
            "|R2FP3U4NHNFNL2|          5|           25|         29|   N|                Y|0.8620689655172413|\n",
            "|R1UUK1977O38MU|          5|           31|         31|   N|                Y|               1.0|\n",
            "| RXO216LWUDV6O|          3|           29|         31|   N|                Y|0.9354838709677419|\n",
            "|R3NMJF7EBMM19V|          3|           26|         27|   N|                Y|0.9629629629629629|\n",
            "|R2ZY0ZBDUO0XUY|          3|           20|         21|   N|                Y|0.9523809523809523|\n",
            "| RBDVHX7PMQEKM|          5|           35|         39|   N|                Y|0.8974358974358975|\n",
            "| RGO3KSDXYWTGU|          4|           26|         26|   N|                Y|               1.0|\n",
            "|R1E1PQGHWGO3Q1|          1|           89|         96|   N|                Y|0.9270833333333334|\n",
            "|R1XOXXUVYZEDJB|          5|           22|         22|   N|                Y|               1.0|\n",
            "| R7SHITUU5UG9U|          5|           27|         27|   N|                Y|               1.0|\n",
            "|R230TLHU91M5Y3|          4|           21|         21|   N|                Y|               1.0|\n",
            "| RHR5MKO23K9TU|          5|           26|         30|   N|                Y|0.8666666666666667|\n",
            "|R1HGK3TCY161D7|          5|           52|         55|   N|                N|0.9454545454545454|\n",
            "|R340QYAVNZZHJA|          4|           25|         25|   N|                N|               1.0|\n",
            "|R2F1UVQK0JL4QH|          3|           20|         20|   N|                Y|               1.0|\n",
            "|R1N21UY546VWMN|          2|           48|         50|   N|                Y|              0.96|\n",
            "|R1E4L344EK0ZOT|          5|           20|         26|   N|                N|0.7692307692307693|\n",
            "|R282QUZDDJW3ON|          4|           45|         49|   N|                Y|0.9183673469387755|\n",
            "|R3H5T3T7QY3ZL2|          5|          247|        263|   N|                Y|0.9391634980988594|\n",
            "|R3W1A1P95IIGHX|          5|           23|         25|   N|                N|              0.92|\n",
            "+--------------+-----------+-------------+-----------+----+-----------------+------------------+\n",
            "only showing top 20 rows\n",
            "\n"
          ],
          "name": "stdout"
        }
      ]
    },
    {
      "cell_type": "markdown",
      "metadata": {
        "id": "bLJYnLNA8yVU"
      },
      "source": [
        "##Determine the total number of reviews, the number of 5-star reviews, and the percentage of 5-star reviews for the two types of review (paid vs unpaid)."
      ]
    },
    {
      "cell_type": "markdown",
      "metadata": {
        "id": "odG27e8q876e"
      },
      "source": [
        "### Paid"
      ]
    },
    {
      "cell_type": "code",
      "metadata": {
        "colab": {
          "base_uri": "https://localhost:8080/"
        },
        "id": "mXz33sLq8gc0",
        "outputId": "787c1994-e489-40c5-c664-766affc0b9cc"
      },
      "source": [
        "# Determine the total number of reviews\n",
        "vine_yes_total = vine_yes_df.count()\n",
        "print(vine_yes_total)"
      ],
      "execution_count": 16,
      "outputs": [
        {
          "output_type": "stream",
          "text": [
            "107\n"
          ],
          "name": "stdout"
        }
      ]
    },
    {
      "cell_type": "code",
      "metadata": {
        "colab": {
          "base_uri": "https://localhost:8080/"
        },
        "id": "av9gXWEd9EgV",
        "outputId": "116d0a76-ec60-4e48-ad0c-a855385c4a3f"
      },
      "source": [
        "# Determine the total number of 5 star reviews\n",
        "vine_yes_5 = vine_yes_df.filter('star_rating=5').count()\n",
        "print(vine_yes_5)"
      ],
      "execution_count": 17,
      "outputs": [
        {
          "output_type": "stream",
          "text": [
            "56\n"
          ],
          "name": "stdout"
        }
      ]
    },
    {
      "cell_type": "code",
      "metadata": {
        "colab": {
          "base_uri": "https://localhost:8080/"
        },
        "id": "4vwUd9M69NIt",
        "outputId": "1fa68e81-4cd3-426d-d28f-70a59568c7f2"
      },
      "source": [
        "# Determin Percentage of 5 star reviews\n",
        "vine_yes_percent = vine_yes_5/vine_yes_total\n",
        "print(vine_yes_percent)"
      ],
      "execution_count": 19,
      "outputs": [
        {
          "output_type": "stream",
          "text": [
            "0.5233644859813084\n"
          ],
          "name": "stdout"
        }
      ]
    },
    {
      "cell_type": "markdown",
      "metadata": {
        "id": "7_iQyxPq-ksg"
      },
      "source": [
        "### Unpaid"
      ]
    },
    {
      "cell_type": "code",
      "metadata": {
        "colab": {
          "base_uri": "https://localhost:8080/"
        },
        "id": "C_cbEWHN-fCt",
        "outputId": "0a2f8d07-c72a-4e4c-8045-b88afc7fb836"
      },
      "source": [
        "# Determine the total number of reviews\n",
        "vine_no_total = vine_no_df.count()\n",
        "print(vine_no_total)"
      ],
      "execution_count": 20,
      "outputs": [
        {
          "output_type": "stream",
          "text": [
            "39869\n"
          ],
          "name": "stdout"
        }
      ]
    },
    {
      "cell_type": "code",
      "metadata": {
        "colab": {
          "base_uri": "https://localhost:8080/"
        },
        "id": "MvJp34jr-shG",
        "outputId": "81305bd6-b5f1-49ff-f50c-c6dbbb81d31f"
      },
      "source": [
        "# Determine the total number of 5 star reviews\n",
        "vine_no_5 = vine_no_df.filter('star_rating=5').count()\n",
        "print(vine_no_5)"
      ],
      "execution_count": 21,
      "outputs": [
        {
          "output_type": "stream",
          "text": [
            "21005\n"
          ],
          "name": "stdout"
        }
      ]
    },
    {
      "cell_type": "code",
      "metadata": {
        "colab": {
          "base_uri": "https://localhost:8080/"
        },
        "id": "3J6FbQOL-yEv",
        "outputId": "a2dd0de7-2cdb-4969-9b68-a2487b828b7b"
      },
      "source": [
        "# Determin Percentage of 5 star reviews\n",
        "vine_no_percent = vine_no_5/vine_no_total\n",
        "print(vine_no_percent)"
      ],
      "execution_count": 22,
      "outputs": [
        {
          "output_type": "stream",
          "text": [
            "0.5268504351751988\n"
          ],
          "name": "stdout"
        }
      ]
    },
    {
      "cell_type": "code",
      "metadata": {
        "id": "3c7Rn8qi-3aE"
      },
      "source": [
        ""
      ],
      "execution_count": null,
      "outputs": []
    }
  ]
}